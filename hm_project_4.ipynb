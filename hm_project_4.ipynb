{
 "cells": [
  {
   "cell_type": "markdown",
   "metadata": {},
   "source": [
    "### Описание\n",
    "Данные имеют следующую структуру:\n",
    "- записываются для каждого пользователя, совершившего покупки, каждый день\n",
    "- для каждой даты есть своя папка, внутри неё – папки для каждого пользователя\n",
    "- внутри каждой папки есть файл data.csv, где и хранятся данные\n",
    "Схематично выглядит так:\n",
    "\n",
    "└── data\n",
    "   ├── 2020-12-30\n",
    "   │  ├── FirstName_LastName1\n",
    "   │  │   └── data.csv\n",
    "   │  ├── FirstName_LastName2\n",
    "   │  │   └── data.csv\n",
    "   │  └── FirstName_LastName3\n",
    "   │      └── data.csv\n",
    "   └── 2020-12-31\n",
    "      ├── FirstName_LastName1\n",
    "      │   └── data.csv\n",
    "      └── FirstName_LastName5\n",
    "          └── data.csv"
   ]
  },
  {
   "cell_type": "markdown",
   "metadata": {},
   "source": [
    "### 1 задача\n",
    "Соберите все данные из папки data в один датафрэйм, имеющий следующие столбцы: колонки из самих файлов (product_id, quantity), а также имя пользователя (name), и дата этих покупок (date), соответствует названию папки, где лежит папка с пользователем).\n",
    "В качестве ответа укажите сумму по колонке quantity."
   ]
  },
  {
   "cell_type": "code",
   "execution_count": 1,
   "metadata": {},
   "outputs": [],
   "source": [
    "import pandas as pd\n",
    "import seaborn as sns\n",
    "import matplotlib.pylab as plt\n",
    "import os"
   ]
  },
  {
   "cell_type": "code",
   "execution_count": 2,
   "metadata": {},
   "outputs": [
    {
     "data": {
      "text/plain": [
       "'/mnt/HC_Volume_18315164/home-jupyter/jupyter-r-asfandijarova/my_projects'"
      ]
     },
     "execution_count": 2,
     "metadata": {},
     "output_type": "execute_result"
    }
   ],
   "source": [
    "os.getcwd()  #текущая директория"
   ]
  },
  {
   "cell_type": "code",
   "execution_count": 3,
   "metadata": {},
   "outputs": [],
   "source": [
    "#data_12_03 = pd.read_csv('/mnt/HC_Volume_18315164/home-jupyter/jupyter-r-asfandijarova/shared/homeworks/python_ds_miniprojects/4/data/2020-12-03/Alexey_Smirnov/data.csv')"
   ]
  },
  {
   "cell_type": "code",
   "execution_count": 4,
   "metadata": {},
   "outputs": [],
   "source": [
    "data = '/mnt/HC_Volume_18315164/home-jupyter/jupyter-r-asfandijarova/shared/homeworks/python_ds_miniprojects/4/data'"
   ]
  },
  {
   "cell_type": "code",
   "execution_count": 5,
   "metadata": {},
   "outputs": [
    {
     "data": {
      "text/plain": [
       "['2020-12-05',\n",
       " '2020-12-08',\n",
       " '2020-12-09',\n",
       " '2020-12-04',\n",
       " '2020-12-06',\n",
       " '2020-12-03',\n",
       " '2020-12-07']"
      ]
     },
     "execution_count": 5,
     "metadata": {},
     "output_type": "execute_result"
    }
   ],
   "source": [
    "os.listdir(data)  #для себя"
   ]
  },
  {
   "cell_type": "code",
   "execution_count": 6,
   "metadata": {},
   "outputs": [],
   "source": [
    "all_data = []"
   ]
  },
  {
   "cell_type": "code",
   "execution_count": 7,
   "metadata": {
    "scrolled": true
   },
   "outputs": [],
   "source": [
    "#data\\2020-12-03\\Alexey_Smirnov\\file.csv\n",
    "\n",
    "for date_folder in os.listdir(data):  \n",
    "    for user in os.listdir(data + '/' + date_folder):  #путь корневой папки + путь папки даты = путь папки даты (где все юзеры)\n",
    "        for data_file in os.listdir(data + '/' + date_folder + '/' + user):  #ныряем глубже и заходим в папку первого юзера\n",
    "            path_to_file = data + '/' + date_folder + '/' + user + '/' + data_file #для чтения csv в пути нужно прописать и сам файл! \n",
    "            \n",
    "            csv_file = pd.read_csv(path_to_file)  #извлекаем фрейм\n",
    "            \n",
    "            csv_file['name'] = user\n",
    "            csv_file['date'] = date_folder\n",
    "            \n",
    "            all_data.append(csv_file)  #кидаем очередной фрейм"
   ]
  },
  {
   "cell_type": "code",
   "execution_count": 8,
   "metadata": {},
   "outputs": [
    {
     "data": {
      "text/html": [
       "<div>\n",
       "<style scoped>\n",
       "    .dataframe tbody tr th:only-of-type {\n",
       "        vertical-align: middle;\n",
       "    }\n",
       "\n",
       "    .dataframe tbody tr th {\n",
       "        vertical-align: top;\n",
       "    }\n",
       "\n",
       "    .dataframe thead th {\n",
       "        text-align: right;\n",
       "    }\n",
       "</style>\n",
       "<table border=\"1\" class=\"dataframe\">\n",
       "  <thead>\n",
       "    <tr style=\"text-align: right;\">\n",
       "      <th></th>\n",
       "      <th>Unnamed: 0</th>\n",
       "      <th>product_id</th>\n",
       "      <th>quantity</th>\n",
       "      <th>name</th>\n",
       "      <th>date</th>\n",
       "    </tr>\n",
       "  </thead>\n",
       "  <tbody>\n",
       "    <tr>\n",
       "      <th>0</th>\n",
       "      <td>0</td>\n",
       "      <td>27</td>\n",
       "      <td>4</td>\n",
       "      <td>Petr_Ivanov</td>\n",
       "      <td>2020-12-05</td>\n",
       "    </tr>\n",
       "    <tr>\n",
       "      <th>1</th>\n",
       "      <td>1</td>\n",
       "      <td>89</td>\n",
       "      <td>1</td>\n",
       "      <td>Petr_Ivanov</td>\n",
       "      <td>2020-12-05</td>\n",
       "    </tr>\n",
       "    <tr>\n",
       "      <th>2</th>\n",
       "      <td>2</td>\n",
       "      <td>33</td>\n",
       "      <td>2</td>\n",
       "      <td>Petr_Ivanov</td>\n",
       "      <td>2020-12-05</td>\n",
       "    </tr>\n",
       "    <tr>\n",
       "      <th>3</th>\n",
       "      <td>3</td>\n",
       "      <td>8</td>\n",
       "      <td>3</td>\n",
       "      <td>Petr_Ivanov</td>\n",
       "      <td>2020-12-05</td>\n",
       "    </tr>\n",
       "    <tr>\n",
       "      <th>4</th>\n",
       "      <td>4</td>\n",
       "      <td>16</td>\n",
       "      <td>1</td>\n",
       "      <td>Petr_Ivanov</td>\n",
       "      <td>2020-12-05</td>\n",
       "    </tr>\n",
       "    <tr>\n",
       "      <th>...</th>\n",
       "      <td>...</td>\n",
       "      <td>...</td>\n",
       "      <td>...</td>\n",
       "      <td>...</td>\n",
       "      <td>...</td>\n",
       "    </tr>\n",
       "    <tr>\n",
       "      <th>0</th>\n",
       "      <td>0</td>\n",
       "      <td>18</td>\n",
       "      <td>4</td>\n",
       "      <td>Petr_Fedorov</td>\n",
       "      <td>2020-12-07</td>\n",
       "    </tr>\n",
       "    <tr>\n",
       "      <th>1</th>\n",
       "      <td>1</td>\n",
       "      <td>94</td>\n",
       "      <td>4</td>\n",
       "      <td>Petr_Fedorov</td>\n",
       "      <td>2020-12-07</td>\n",
       "    </tr>\n",
       "    <tr>\n",
       "      <th>0</th>\n",
       "      <td>0</td>\n",
       "      <td>95</td>\n",
       "      <td>2</td>\n",
       "      <td>Vasiliy_Ivanov</td>\n",
       "      <td>2020-12-07</td>\n",
       "    </tr>\n",
       "    <tr>\n",
       "      <th>1</th>\n",
       "      <td>1</td>\n",
       "      <td>83</td>\n",
       "      <td>3</td>\n",
       "      <td>Vasiliy_Ivanov</td>\n",
       "      <td>2020-12-07</td>\n",
       "    </tr>\n",
       "    <tr>\n",
       "      <th>2</th>\n",
       "      <td>2</td>\n",
       "      <td>64</td>\n",
       "      <td>1</td>\n",
       "      <td>Vasiliy_Ivanov</td>\n",
       "      <td>2020-12-07</td>\n",
       "    </tr>\n",
       "  </tbody>\n",
       "</table>\n",
       "<p>161 rows × 5 columns</p>\n",
       "</div>"
      ],
      "text/plain": [
       "    Unnamed: 0  product_id  quantity            name        date\n",
       "0            0          27         4     Petr_Ivanov  2020-12-05\n",
       "1            1          89         1     Petr_Ivanov  2020-12-05\n",
       "2            2          33         2     Petr_Ivanov  2020-12-05\n",
       "3            3           8         3     Petr_Ivanov  2020-12-05\n",
       "4            4          16         1     Petr_Ivanov  2020-12-05\n",
       "..         ...         ...       ...             ...         ...\n",
       "0            0          18         4    Petr_Fedorov  2020-12-07\n",
       "1            1          94         4    Petr_Fedorov  2020-12-07\n",
       "0            0          95         2  Vasiliy_Ivanov  2020-12-07\n",
       "1            1          83         3  Vasiliy_Ivanov  2020-12-07\n",
       "2            2          64         1  Vasiliy_Ivanov  2020-12-07\n",
       "\n",
       "[161 rows x 5 columns]"
      ]
     },
     "execution_count": 8,
     "metadata": {},
     "output_type": "execute_result"
    }
   ],
   "source": [
    "result_df = pd.concat(all_data)  #объединим все фреймы\n",
    "result_df"
   ]
  },
  {
   "cell_type": "code",
   "execution_count": 10,
   "metadata": {},
   "outputs": [],
   "source": [
    "result_df.drop(columns='Unnamed: 0', inplace=True)\n",
    "result_df['date'] = pd.to_datetime(result_df['date'])"
   ]
  },
  {
   "cell_type": "code",
   "execution_count": 11,
   "metadata": {},
   "outputs": [
    {
     "data": {
      "text/plain": [
       "480"
      ]
     },
     "execution_count": 11,
     "metadata": {},
     "output_type": "execute_result"
    }
   ],
   "source": [
    "sum_quantity = result_df.quantity.sum()\n",
    "sum_quantity"
   ]
  },
  {
   "cell_type": "markdown",
   "metadata": {},
   "source": [
    "### 2 задача\n",
    "Выясните, какой пользователь купил больше всего товаров. Если их несколько, то перечислите имена через запятую с пробелом и в алфавитном порядке."
   ]
  },
  {
   "cell_type": "code",
   "execution_count": 12,
   "metadata": {},
   "outputs": [
    {
     "data": {
      "text/plain": [
       "52"
      ]
     },
     "execution_count": 12,
     "metadata": {},
     "output_type": "execute_result"
    }
   ],
   "source": [
    "total_quantities = result_df.groupby('name', as_index=False) \\\n",
    "    .agg({'quantity':'sum'}) \\\n",
    "    .rename(columns={'quantity':'total'}) \\\n",
    "    .sort_values('total', ascending=False)\n",
    "\n",
    "max_quan_user = total_quantities.iloc[0, 1]\n",
    "max_quan_user"
   ]
  },
  {
   "cell_type": "code",
   "execution_count": 13,
   "metadata": {},
   "outputs": [
    {
     "data": {
      "text/plain": [
       "['Alexey_Smirnov', 'Petr_Smirnov']"
      ]
     },
     "execution_count": 13,
     "metadata": {},
     "output_type": "execute_result"
    }
   ],
   "source": [
    "max_users = sorted(total_quantities.query('total == @max_quan_user').name)\n",
    "max_users"
   ]
  },
  {
   "cell_type": "markdown",
   "metadata": {},
   "source": [
    "### 3 задача\n",
    "Найдите топ-10 товаров по числу проданных единиц за всё время и постройте барплот (столбчатую диаграмму, sns.barplot), где:\n",
    "- по оси x – идентификаторы товаров (product_id) \n",
    "- по оси y – суммарное число их покупок (сколько товаров с таким product_id было продано)\n",
    " \n",
    "В качестве ответа укажите, сколько было продано единиц товара с product_id равным 56."
   ]
  },
  {
   "cell_type": "code",
   "execution_count": 14,
   "metadata": {},
   "outputs": [
    {
     "data": {
      "text/plain": [
       "<matplotlib.axes._subplots.AxesSubplot at 0x7f1c645cfa90>"
      ]
     },
     "execution_count": 14,
     "metadata": {},
     "output_type": "execute_result"
    },
    {
     "data": {
      "image/png": "[encoded data removed]",
      "text/plain": [
       "<Figure size 432x288 with 1 Axes>"
      ]
     },
     "metadata": {
      "needs_background": "light"
     },
     "output_type": "display_data"
    }
   ],
   "source": [
    "products = result_df.groupby('product_id', as_index=False) \\\n",
    "    .agg({'quantity':'sum'}) \\\n",
    "    .rename(columns={'quantity':'total'}) \\\n",
    "    .sort_values('total', ascending=False)\n",
    "\n",
    "top_10 = products.head(10)\n",
    "\n",
    "sns.barplot(x='product_id', y='total', data=top_10)"
   ]
  },
  {
   "cell_type": "code",
   "execution_count": 15,
   "metadata": {},
   "outputs": [
    {
     "data": {
      "text/html": [
       "<div>\n",
       "<style scoped>\n",
       "    .dataframe tbody tr th:only-of-type {\n",
       "        vertical-align: middle;\n",
       "    }\n",
       "\n",
       "    .dataframe tbody tr th {\n",
       "        vertical-align: top;\n",
       "    }\n",
       "\n",
       "    .dataframe thead th {\n",
       "        text-align: right;\n",
       "    }\n",
       "</style>\n",
       "<table border=\"1\" class=\"dataframe\">\n",
       "  <thead>\n",
       "    <tr style=\"text-align: right;\">\n",
       "      <th></th>\n",
       "      <th>product_id</th>\n",
       "      <th>total</th>\n",
       "    </tr>\n",
       "  </thead>\n",
       "  <tbody>\n",
       "    <tr>\n",
       "      <th>42</th>\n",
       "      <td>56</td>\n",
       "      <td>18</td>\n",
       "    </tr>\n",
       "  </tbody>\n",
       "</table>\n",
       "</div>"
      ],
      "text/plain": [
       "    product_id  total\n",
       "42          56     18"
      ]
     },
     "execution_count": 15,
     "metadata": {},
     "output_type": "execute_result"
    }
   ],
   "source": [
    "top_10.query('product_id == 56')"
   ]
  },
  {
   "cell_type": "markdown",
   "metadata": {},
   "source": [
    "### 4 задача\n",
    "Посмотрим на продажи по дням! Для визуализации снова используйте барплот, только теперь по оси x будут дни (date). "
   ]
  },
  {
   "cell_type": "code",
   "execution_count": 11,
   "metadata": {},
   "outputs": [
    {
     "data": {
      "text/plain": [
       "<matplotlib.axes._subplots.AxesSubplot at 0x7f94af471f28>"
      ]
     },
     "execution_count": 11,
     "metadata": {},
     "output_type": "execute_result"
    },
    {
     "data": {
      "image/png": "[encoded data removed]",
      "text/plain": [
       "<Figure size 720x432 with 1 Axes>"
      ]
     },
     "metadata": {
      "needs_background": "light"
     },
     "output_type": "display_data"
    }
   ],
   "source": [
    "date_sales = result_df.groupby('date', as_index=False) \\\n",
    "    .agg({'quantity':'sum'}) \\\n",
    "    .rename(columns={'quantity':'total'}) \\\n",
    "    .sort_values('total', ascending=False) \n",
    "\n",
    "plt.figure(figsize=(10, 6))  \n",
    "sns.barplot(x='date', y='total', data=date_sales)"
   ]
  },
  {
   "cell_type": "markdown",
   "metadata": {},
   "source": [
    "### 5 задача\n",
    "Сколько пользователей приобрели какой-либо товар повторно (более 1 раза)? Повтором будем считать покупку товара с одинаковым product_id, совершенную в разные дни. "
   ]
  },
  {
   "cell_type": "code",
   "execution_count": 17,
   "metadata": {},
   "outputs": [],
   "source": [
    "df_unique = result_df.drop_duplicates(subset=['name', 'product_id', 'date'])"
   ]
  },
  {
   "cell_type": "code",
   "execution_count": 18,
   "metadata": {},
   "outputs": [
    {
     "data": {
      "text/html": [
       "<div>\n",
       "<style scoped>\n",
       "    .dataframe tbody tr th:only-of-type {\n",
       "        vertical-align: middle;\n",
       "    }\n",
       "\n",
       "    .dataframe tbody tr th {\n",
       "        vertical-align: top;\n",
       "    }\n",
       "\n",
       "    .dataframe thead th {\n",
       "        text-align: right;\n",
       "    }\n",
       "</style>\n",
       "<table border=\"1\" class=\"dataframe\">\n",
       "  <thead>\n",
       "    <tr style=\"text-align: right;\">\n",
       "      <th></th>\n",
       "      <th>product_id</th>\n",
       "      <th>name</th>\n",
       "      <th>date</th>\n",
       "    </tr>\n",
       "  </thead>\n",
       "  <tbody>\n",
       "    <tr>\n",
       "      <th>24</th>\n",
       "      <td>15</td>\n",
       "      <td>Anton_Ivanov</td>\n",
       "      <td>2</td>\n",
       "    </tr>\n",
       "    <tr>\n",
       "      <th>150</th>\n",
       "      <td>94</td>\n",
       "      <td>Petr_Fedorov</td>\n",
       "      <td>2</td>\n",
       "    </tr>\n",
       "  </tbody>\n",
       "</table>\n",
       "</div>"
      ],
      "text/plain": [
       "     product_id          name  date\n",
       "24           15  Anton_Ivanov     2\n",
       "150          94  Petr_Fedorov     2"
      ]
     },
     "execution_count": 18,
     "metadata": {},
     "output_type": "execute_result"
    }
   ],
   "source": [
    "unique_sales = df_unique.groupby(['product_id', 'name'], as_index=False) \\\n",
    "    .date.nunique() \\\n",
    "    .query('date > 1') \n",
    "\n",
    "unique_sales"
   ]
  },
  {
   "cell_type": "markdown",
   "metadata": {},
   "source": [
    "### Дополнительная задача\n",
    "Имеется таблица с записями о компаниях, включая их ИНН, и отдельный текстовый файл с набором ИНН (колонка head_inn), которые хранятся в папке 4_inn.\n",
    "- inn.xls — таблица в экселевском формате\n",
    "- necessary_inn.txt — перечень необходимых ИНН в текстовом формате\n",
    "\n",
    "Укажите сумму колонки income,RUB в отобранных данных. У набора данных necessary_inn.txt нет заголовка, поэтому вам пригодится аргумент header=None. "
   ]
  },
  {
   "cell_type": "code",
   "execution_count": 21,
   "metadata": {},
   "outputs": [],
   "source": [
    "inn = pd.read_excel('/mnt/HC_Volume_18315164/home-jupyter/jupyter-r-asfandijarova/shared/homeworks/python_ds_miniprojects/4_inn/inn.xls')"
   ]
  },
  {
   "cell_type": "code",
   "execution_count": 24,
   "metadata": {
    "scrolled": true
   },
   "outputs": [
    {
     "data": {
      "text/html": [
       "<div>\n",
       "<style scoped>\n",
       "    .dataframe tbody tr th:only-of-type {\n",
       "        vertical-align: middle;\n",
       "    }\n",
       "\n",
       "    .dataframe tbody tr th {\n",
       "        vertical-align: top;\n",
       "    }\n",
       "\n",
       "    .dataframe thead th {\n",
       "        text-align: right;\n",
       "    }\n",
       "</style>\n",
       "<table border=\"1\" class=\"dataframe\">\n",
       "  <thead>\n",
       "    <tr style=\"text-align: right;\">\n",
       "      <th></th>\n",
       "      <th>Unnamed: 0</th>\n",
       "      <th>#</th>\n",
       "      <th>name</th>\n",
       "      <th>reg_number</th>\n",
       "      <th>address</th>\n",
       "      <th>head</th>\n",
       "      <th>head_job</th>\n",
       "      <th>head_inn</th>\n",
       "      <th>phone</th>\n",
       "      <th>email</th>\n",
       "      <th>site</th>\n",
       "      <th>registration_date</th>\n",
       "      <th>nalogoplatelschik_code</th>\n",
       "      <th>oktmo_code</th>\n",
       "      <th>okato_code</th>\n",
       "      <th>registration_region</th>\n",
       "      <th>okato_name</th>\n",
       "      <th>field</th>\n",
       "      <th>capital,RUB</th>\n",
       "      <th>income,RUB</th>\n",
       "    </tr>\n",
       "  </thead>\n",
       "  <tbody>\n",
       "    <tr>\n",
       "      <th>0</th>\n",
       "      <td>0</td>\n",
       "      <td>0</td>\n",
       "      <td>ЗАО «Власова, Макаров и Шашков»</td>\n",
       "      <td>1143692580560</td>\n",
       "      <td>д. Кирово-Чепецк, пр. Металлургов, д. 537 к. 3...</td>\n",
       "      <td>Жданов Карл Виленович</td>\n",
       "      <td>Маммолог</td>\n",
       "      <td>109092209811</td>\n",
       "      <td>+7 (559) 338-87-76</td>\n",
       "      <td>bogdanovavtonom@yahoo.com</td>\n",
       "      <td>ooo.info</td>\n",
       "      <td>2015-01-07</td>\n",
       "      <td>2006-10-04</td>\n",
       "      <td>21112877268</td>\n",
       "      <td>73423615032</td>\n",
       "      <td>Ulan-Ude</td>\n",
       "      <td>к. Тосно, ул. Пушкинская, д. 896, 617222</td>\n",
       "      <td>Синхронизация критически важных отношений</td>\n",
       "      <td>54875526078</td>\n",
       "      <td>32205872896</td>\n",
       "    </tr>\n",
       "    <tr>\n",
       "      <th>1</th>\n",
       "      <td>1</td>\n",
       "      <td>1</td>\n",
       "      <td>РАО «Тимофеева, Алексеева и Кузнецова»</td>\n",
       "      <td>9342309660697</td>\n",
       "      <td>г. Арзамас, наб. Фестивальная, д. 7 стр. 8/2, ...</td>\n",
       "      <td>Рожков Харлампий Алексеевич</td>\n",
       "      <td>Воспитатель</td>\n",
       "      <td>704229465069</td>\n",
       "      <td>8 (632) 620-8879</td>\n",
       "      <td>safonovantonin@rao.org</td>\n",
       "      <td>ooo.net</td>\n",
       "      <td>1990-05-16</td>\n",
       "      <td>2019-01-18</td>\n",
       "      <td>18393547520</td>\n",
       "      <td>19072454279</td>\n",
       "      <td>Tyoply Stan</td>\n",
       "      <td>ст. Кяхта, бул. Нефтяников, д. 24, 768742</td>\n",
       "      <td>Формирование заказных методик</td>\n",
       "      <td>33876448811</td>\n",
       "      <td>47437574301</td>\n",
       "    </tr>\n",
       "    <tr>\n",
       "      <th>2</th>\n",
       "      <td>2</td>\n",
       "      <td>2</td>\n",
       "      <td>РАО «Юдин-Ефимова»</td>\n",
       "      <td>1277485323451</td>\n",
       "      <td>п. Меренга, алл. Достоевского, д. 3/4 к. 497, ...</td>\n",
       "      <td>Филимон Фадеевич Дьячков</td>\n",
       "      <td>Автослесарь</td>\n",
       "      <td>267655036377</td>\n",
       "      <td>+74925330378</td>\n",
       "      <td>kdorofeev@npo.ru</td>\n",
       "      <td>ao.com</td>\n",
       "      <td>1982-11-04</td>\n",
       "      <td>1986-06-19</td>\n",
       "      <td>56104355836</td>\n",
       "      <td>18629292792</td>\n",
       "      <td>Danilov</td>\n",
       "      <td>клх Усолье Сибирское, алл. Шишкина, д. 3/9 к. ...</td>\n",
       "      <td>Максимизация корпоративных метрик</td>\n",
       "      <td>94073834991</td>\n",
       "      <td>7701710065</td>\n",
       "    </tr>\n",
       "    <tr>\n",
       "      <th>3</th>\n",
       "      <td>3</td>\n",
       "      <td>3</td>\n",
       "      <td>Доронин Инкорпорэйтед</td>\n",
       "      <td>7139161431511</td>\n",
       "      <td>д. Иваново, ул. Красных Партизан, д. 83 к. 4, ...</td>\n",
       "      <td>Крылов Глеб Якубович</td>\n",
       "      <td>Тюремный надзиратель</td>\n",
       "      <td>362024991175</td>\n",
       "      <td>+7 118 643 21 48</td>\n",
       "      <td>nkulakova@mail.ru</td>\n",
       "      <td>ooo.ru</td>\n",
       "      <td>2005-01-02</td>\n",
       "      <td>2004-04-06</td>\n",
       "      <td>10398489351</td>\n",
       "      <td>32502585383</td>\n",
       "      <td>Beryozovsky</td>\n",
       "      <td>г. Заводоуковск, ул. Гражданская, д. 7 к. 8/5,...</td>\n",
       "      <td>Разработка ориентированных на пользователя инт...</td>\n",
       "      <td>86971505490</td>\n",
       "      <td>61148002572</td>\n",
       "    </tr>\n",
       "    <tr>\n",
       "      <th>4</th>\n",
       "      <td>4</td>\n",
       "      <td>4</td>\n",
       "      <td>Объединенная энергетическая компания</td>\n",
       "      <td>6114798049639</td>\n",
       "      <td>к. Энгельс, наб. Шишкина, д. 120, 823828</td>\n",
       "      <td>Субботин Вячеслав Федотович</td>\n",
       "      <td>Инженер-электрик</td>\n",
       "      <td>257948948010</td>\n",
       "      <td>8 642 249 2134</td>\n",
       "      <td>evgraf_18@yahoo.com</td>\n",
       "      <td>gerasimova.biz</td>\n",
       "      <td>1983-07-02</td>\n",
       "      <td>1992-06-20</td>\n",
       "      <td>20074507047</td>\n",
       "      <td>40083207999</td>\n",
       "      <td>Bavly</td>\n",
       "      <td>к. Соль-Илецк, пер. Пригородный, д. 804 к. 1/3...</td>\n",
       "      <td>Монетизация интуитивных веб-сервисов</td>\n",
       "      <td>36351136214</td>\n",
       "      <td>34861533393</td>\n",
       "    </tr>\n",
       "    <tr>\n",
       "      <th>...</th>\n",
       "      <td>...</td>\n",
       "      <td>...</td>\n",
       "      <td>...</td>\n",
       "      <td>...</td>\n",
       "      <td>...</td>\n",
       "      <td>...</td>\n",
       "      <td>...</td>\n",
       "      <td>...</td>\n",
       "      <td>...</td>\n",
       "      <td>...</td>\n",
       "      <td>...</td>\n",
       "      <td>...</td>\n",
       "      <td>...</td>\n",
       "      <td>...</td>\n",
       "      <td>...</td>\n",
       "      <td>...</td>\n",
       "      <td>...</td>\n",
       "      <td>...</td>\n",
       "      <td>...</td>\n",
       "      <td>...</td>\n",
       "    </tr>\n",
       "    <tr>\n",
       "      <th>2105</th>\n",
       "      <td>2105</td>\n",
       "      <td>2105</td>\n",
       "      <td>ИП «Зайцев, Шубин и Дементьева»</td>\n",
       "      <td>6580539599719</td>\n",
       "      <td>к. Чебаркуль, бул. Кольцевой, д. 19 к. 3, 911953</td>\n",
       "      <td>Назар Гордеевич Миронов</td>\n",
       "      <td>Дефектолог</td>\n",
       "      <td>575321775842</td>\n",
       "      <td>8 (390) 976-88-54</td>\n",
       "      <td>juvenali_66@ao.edu</td>\n",
       "      <td>aviakompanija.edu</td>\n",
       "      <td>2007-02-01</td>\n",
       "      <td>2014-10-29</td>\n",
       "      <td>13383530491</td>\n",
       "      <td>62100202894</td>\n",
       "      <td>Gudermes</td>\n",
       "      <td>г. Миасс, пр. Пожарского, д. 39 стр. 880, 386211</td>\n",
       "      <td>Охват прозрачных методик</td>\n",
       "      <td>88659854892</td>\n",
       "      <td>61232741869</td>\n",
       "    </tr>\n",
       "    <tr>\n",
       "      <th>2106</th>\n",
       "      <td>2106</td>\n",
       "      <td>2106</td>\n",
       "      <td>Юдина Лтд</td>\n",
       "      <td>5012825137426</td>\n",
       "      <td>д. Темрюк, ш. Автомобилистов, д. 9 стр. 59, 80...</td>\n",
       "      <td>Игнатов Кирилл Арсенович</td>\n",
       "      <td>Прозектор</td>\n",
       "      <td>703895742672</td>\n",
       "      <td>+7 854 489 5577</td>\n",
       "      <td>gavrila_2019@gmail.com</td>\n",
       "      <td>npo.net</td>\n",
       "      <td>1973-08-13</td>\n",
       "      <td>2001-11-09</td>\n",
       "      <td>40544984216</td>\n",
       "      <td>35386922447</td>\n",
       "      <td>Tver</td>\n",
       "      <td>к. Мыс Шмидта, алл. Комарова, д. 257 стр. 3, 8...</td>\n",
       "      <td>Увеличение кроссплатформенных действий</td>\n",
       "      <td>20441750025</td>\n",
       "      <td>67450329265</td>\n",
       "    </tr>\n",
       "    <tr>\n",
       "      <th>2107</th>\n",
       "      <td>2107</td>\n",
       "      <td>2107</td>\n",
       "      <td>Антонова Лимитед</td>\n",
       "      <td>7659150538516</td>\n",
       "      <td>г. Ноябрьск, пр. Весенний, д. 418, 214696</td>\n",
       "      <td>Александров Радим Ярославович</td>\n",
       "      <td>Дознаватель</td>\n",
       "      <td>576824176737</td>\n",
       "      <td>+7 (135) 034-6805</td>\n",
       "      <td>chernovlongin@rambler.ru</td>\n",
       "      <td>krilov.net</td>\n",
       "      <td>2018-11-03</td>\n",
       "      <td>2016-06-15</td>\n",
       "      <td>39266483828</td>\n",
       "      <td>21174514029</td>\n",
       "      <td>Sharypovo</td>\n",
       "      <td>с. Щелково, алл. Попова, д. 143 к. 811, 155684</td>\n",
       "      <td>Мотивация сенсационных решений</td>\n",
       "      <td>9278989412</td>\n",
       "      <td>77350481806</td>\n",
       "    </tr>\n",
       "    <tr>\n",
       "      <th>2108</th>\n",
       "      <td>2108</td>\n",
       "      <td>2108</td>\n",
       "      <td>ООО «Хохлов Казаков»</td>\n",
       "      <td>9506828156265</td>\n",
       "      <td>к. Липецк, наб. Халтурина, д. 60, 449290</td>\n",
       "      <td>Воробьев Сидор Фролович</td>\n",
       "      <td>Снайпер</td>\n",
       "      <td>157426408379</td>\n",
       "      <td>+7 172 548 4422</td>\n",
       "      <td>qpanova@hotmail.com</td>\n",
       "      <td>oao.org</td>\n",
       "      <td>1980-07-02</td>\n",
       "      <td>2009-11-23</td>\n",
       "      <td>76945273610</td>\n",
       "      <td>95601014531</td>\n",
       "      <td>Privolzhskiy</td>\n",
       "      <td>п. Токма, ш. 50 лет Победы, д. 730, 791941</td>\n",
       "      <td>Охват серверных результатов</td>\n",
       "      <td>84921082372</td>\n",
       "      <td>85023560472</td>\n",
       "    </tr>\n",
       "    <tr>\n",
       "      <th>2109</th>\n",
       "      <td>2109</td>\n",
       "      <td>2109</td>\n",
       "      <td>ИП «Кабанов Ситникова»</td>\n",
       "      <td>5283860848622</td>\n",
       "      <td>г. Котлас, бул. 30 лет Победы, д. 73, 801698</td>\n",
       "      <td>Эммануил Аверьянович Фомичев</td>\n",
       "      <td>Филолог</td>\n",
       "      <td>508412506243</td>\n",
       "      <td>+7 224 287 5729</td>\n",
       "      <td>novikovprokofi@gmail.com</td>\n",
       "      <td>kompanija.com</td>\n",
       "      <td>2001-05-17</td>\n",
       "      <td>2014-01-21</td>\n",
       "      <td>86322929141</td>\n",
       "      <td>84557726914</td>\n",
       "      <td>Dyat‚Äôkovo</td>\n",
       "      <td>с. Усмань, ш. Песочное, д. 754 стр. 3, 031897</td>\n",
       "      <td>Итерация передовых моделей</td>\n",
       "      <td>38622960779</td>\n",
       "      <td>10015090473</td>\n",
       "    </tr>\n",
       "  </tbody>\n",
       "</table>\n",
       "<p>2110 rows × 20 columns</p>\n",
       "</div>"
      ],
      "text/plain": [
       "      Unnamed: 0     #                                    name     reg_number  \\\n",
       "0              0     0         ЗАО «Власова, Макаров и Шашков»  1143692580560   \n",
       "1              1     1  РАО «Тимофеева, Алексеева и Кузнецова»  9342309660697   \n",
       "2              2     2                      РАО «Юдин-Ефимова»  1277485323451   \n",
       "3              3     3                   Доронин Инкорпорэйтед  7139161431511   \n",
       "4              4     4    Объединенная энергетическая компания  6114798049639   \n",
       "...          ...   ...                                     ...            ...   \n",
       "2105        2105  2105         ИП «Зайцев, Шубин и Дементьева»  6580539599719   \n",
       "2106        2106  2106                               Юдина Лтд  5012825137426   \n",
       "2107        2107  2107                        Антонова Лимитед  7659150538516   \n",
       "2108        2108  2108                    ООО «Хохлов Казаков»  9506828156265   \n",
       "2109        2109  2109                  ИП «Кабанов Ситникова»  5283860848622   \n",
       "\n",
       "                                                address  \\\n",
       "0     д. Кирово-Чепецк, пр. Металлургов, д. 537 к. 3...   \n",
       "1     г. Арзамас, наб. Фестивальная, д. 7 стр. 8/2, ...   \n",
       "2     п. Меренга, алл. Достоевского, д. 3/4 к. 497, ...   \n",
       "3     д. Иваново, ул. Красных Партизан, д. 83 к. 4, ...   \n",
       "4              к. Энгельс, наб. Шишкина, д. 120, 823828   \n",
       "...                                                 ...   \n",
       "2105   к. Чебаркуль, бул. Кольцевой, д. 19 к. 3, 911953   \n",
       "2106  д. Темрюк, ш. Автомобилистов, д. 9 стр. 59, 80...   \n",
       "2107          г. Ноябрьск, пр. Весенний, д. 418, 214696   \n",
       "2108           к. Липецк, наб. Халтурина, д. 60, 449290   \n",
       "2109       г. Котлас, бул. 30 лет Победы, д. 73, 801698   \n",
       "\n",
       "                               head              head_job      head_inn  \\\n",
       "0             Жданов Карл Виленович              Маммолог  109092209811   \n",
       "1       Рожков Харлампий Алексеевич           Воспитатель  704229465069   \n",
       "2          Филимон Фадеевич Дьячков           Автослесарь  267655036377   \n",
       "3              Крылов Глеб Якубович  Тюремный надзиратель  362024991175   \n",
       "4       Субботин Вячеслав Федотович      Инженер-электрик  257948948010   \n",
       "...                             ...                   ...           ...   \n",
       "2105        Назар Гордеевич Миронов            Дефектолог  575321775842   \n",
       "2106       Игнатов Кирилл Арсенович             Прозектор  703895742672   \n",
       "2107  Александров Радим Ярославович           Дознаватель  576824176737   \n",
       "2108        Воробьев Сидор Фролович               Снайпер  157426408379   \n",
       "2109   Эммануил Аверьянович Фомичев               Филолог  508412506243   \n",
       "\n",
       "                   phone                      email               site  \\\n",
       "0     +7 (559) 338-87-76  bogdanovavtonom@yahoo.com           ooo.info   \n",
       "1       8 (632) 620-8879     safonovantonin@rao.org            ooo.net   \n",
       "2           +74925330378           kdorofeev@npo.ru             ao.com   \n",
       "3       +7 118 643 21 48          nkulakova@mail.ru             ooo.ru   \n",
       "4         8 642 249 2134        evgraf_18@yahoo.com     gerasimova.biz   \n",
       "...                  ...                        ...                ...   \n",
       "2105   8 (390) 976-88-54         juvenali_66@ao.edu  aviakompanija.edu   \n",
       "2106     +7 854 489 5577     gavrila_2019@gmail.com            npo.net   \n",
       "2107   +7 (135) 034-6805   chernovlongin@rambler.ru         krilov.net   \n",
       "2108     +7 172 548 4422        qpanova@hotmail.com            oao.org   \n",
       "2109     +7 224 287 5729   novikovprokofi@gmail.com      kompanija.com   \n",
       "\n",
       "     registration_date nalogoplatelschik_code   oktmo_code   okato_code  \\\n",
       "0           2015-01-07             2006-10-04  21112877268  73423615032   \n",
       "1           1990-05-16             2019-01-18  18393547520  19072454279   \n",
       "2           1982-11-04             1986-06-19  56104355836  18629292792   \n",
       "3           2005-01-02             2004-04-06  10398489351  32502585383   \n",
       "4           1983-07-02             1992-06-20  20074507047  40083207999   \n",
       "...                ...                    ...          ...          ...   \n",
       "2105        2007-02-01             2014-10-29  13383530491  62100202894   \n",
       "2106        1973-08-13             2001-11-09  40544984216  35386922447   \n",
       "2107        2018-11-03             2016-06-15  39266483828  21174514029   \n",
       "2108        1980-07-02             2009-11-23  76945273610  95601014531   \n",
       "2109        2001-05-17             2014-01-21  86322929141  84557726914   \n",
       "\n",
       "     registration_region                                         okato_name  \\\n",
       "0               Ulan-Ude           к. Тосно, ул. Пушкинская, д. 896, 617222   \n",
       "1            Tyoply Stan          ст. Кяхта, бул. Нефтяников, д. 24, 768742   \n",
       "2                Danilov  клх Усолье Сибирское, алл. Шишкина, д. 3/9 к. ...   \n",
       "3            Beryozovsky  г. Заводоуковск, ул. Гражданская, д. 7 к. 8/5,...   \n",
       "4                  Bavly  к. Соль-Илецк, пер. Пригородный, д. 804 к. 1/3...   \n",
       "...                  ...                                                ...   \n",
       "2105            Gudermes   г. Миасс, пр. Пожарского, д. 39 стр. 880, 386211   \n",
       "2106                Tver  к. Мыс Шмидта, алл. Комарова, д. 257 стр. 3, 8...   \n",
       "2107           Sharypovo     с. Щелково, алл. Попова, д. 143 к. 811, 155684   \n",
       "2108        Privolzhskiy         п. Токма, ш. 50 лет Победы, д. 730, 791941   \n",
       "2109         Dyat‚Äôkovo      с. Усмань, ш. Песочное, д. 754 стр. 3, 031897   \n",
       "\n",
       "                                                  field  capital,RUB  \\\n",
       "0             Синхронизация критически важных отношений  54875526078   \n",
       "1                         Формирование заказных методик  33876448811   \n",
       "2                     Максимизация корпоративных метрик  94073834991   \n",
       "3     Разработка ориентированных на пользователя инт...  86971505490   \n",
       "4                  Монетизация интуитивных веб-сервисов  36351136214   \n",
       "...                                                 ...          ...   \n",
       "2105                           Охват прозрачных методик  88659854892   \n",
       "2106             Увеличение кроссплатформенных действий  20441750025   \n",
       "2107                     Мотивация сенсационных решений   9278989412   \n",
       "2108                        Охват серверных результатов  84921082372   \n",
       "2109                         Итерация передовых моделей  38622960779   \n",
       "\n",
       "       income,RUB  \n",
       "0     32205872896  \n",
       "1     47437574301  \n",
       "2      7701710065  \n",
       "3     61148002572  \n",
       "4     34861533393  \n",
       "...           ...  \n",
       "2105  61232741869  \n",
       "2106  67450329265  \n",
       "2107  77350481806  \n",
       "2108  85023560472  \n",
       "2109  10015090473  \n",
       "\n",
       "[2110 rows x 20 columns]"
      ]
     },
     "execution_count": 24,
     "metadata": {},
     "output_type": "execute_result"
    }
   ],
   "source": [
    "inn"
   ]
  },
  {
   "cell_type": "code",
   "execution_count": 56,
   "metadata": {},
   "outputs": [],
   "source": [
    "necessary_inn = pd.read_csv('/mnt/HC_Volume_18315164/home-jupyter/jupyter-r-asfandijarova/shared/homeworks/python_ds_miniprojects/4_inn/necessary_inn.txt', header = None, names=['number_inn'])"
   ]
  },
  {
   "cell_type": "code",
   "execution_count": 57,
   "metadata": {
    "scrolled": true
   },
   "outputs": [
    {
     "data": {
      "text/html": [
       "<div>\n",
       "<style scoped>\n",
       "    .dataframe tbody tr th:only-of-type {\n",
       "        vertical-align: middle;\n",
       "    }\n",
       "\n",
       "    .dataframe tbody tr th {\n",
       "        vertical-align: top;\n",
       "    }\n",
       "\n",
       "    .dataframe thead th {\n",
       "        text-align: right;\n",
       "    }\n",
       "</style>\n",
       "<table border=\"1\" class=\"dataframe\">\n",
       "  <thead>\n",
       "    <tr style=\"text-align: right;\">\n",
       "      <th></th>\n",
       "      <th>number_inn</th>\n",
       "    </tr>\n",
       "  </thead>\n",
       "  <tbody>\n",
       "    <tr>\n",
       "      <th>0</th>\n",
       "      <td>394609645484</td>\n",
       "    </tr>\n",
       "    <tr>\n",
       "      <th>1</th>\n",
       "      <td>281578625230</td>\n",
       "    </tr>\n",
       "    <tr>\n",
       "      <th>2</th>\n",
       "      <td>923769811917</td>\n",
       "    </tr>\n",
       "    <tr>\n",
       "      <th>3</th>\n",
       "      <td>998694734508</td>\n",
       "    </tr>\n",
       "    <tr>\n",
       "      <th>4</th>\n",
       "      <td>271011690615</td>\n",
       "    </tr>\n",
       "    <tr>\n",
       "      <th>...</th>\n",
       "      <td>...</td>\n",
       "    </tr>\n",
       "    <tr>\n",
       "      <th>110</th>\n",
       "      <td>664306216794</td>\n",
       "    </tr>\n",
       "    <tr>\n",
       "      <th>111</th>\n",
       "      <td>991951385204</td>\n",
       "    </tr>\n",
       "    <tr>\n",
       "      <th>112</th>\n",
       "      <td>129413497752</td>\n",
       "    </tr>\n",
       "    <tr>\n",
       "      <th>113</th>\n",
       "      <td>447901012904</td>\n",
       "    </tr>\n",
       "    <tr>\n",
       "      <th>114</th>\n",
       "      <td>634037614688</td>\n",
       "    </tr>\n",
       "  </tbody>\n",
       "</table>\n",
       "<p>115 rows × 1 columns</p>\n",
       "</div>"
      ],
      "text/plain": [
       "       number_inn\n",
       "0    394609645484\n",
       "1    281578625230\n",
       "2    923769811917\n",
       "3    998694734508\n",
       "4    271011690615\n",
       "..            ...\n",
       "110  664306216794\n",
       "111  991951385204\n",
       "112  129413497752\n",
       "113  447901012904\n",
       "114  634037614688\n",
       "\n",
       "[115 rows x 1 columns]"
      ]
     },
     "execution_count": 57,
     "metadata": {},
     "output_type": "execute_result"
    }
   ],
   "source": [
    "necessary_inn"
   ]
  },
  {
   "cell_type": "code",
   "execution_count": 60,
   "metadata": {},
   "outputs": [],
   "source": [
    "list_inn = necessary_inn.number_inn.tolist()  #список инн (для удобного сравнения)"
   ]
  },
  {
   "cell_type": "code",
   "execution_count": null,
   "metadata": {},
   "outputs": [],
   "source": [
    "#извлечь из таблицы записи с ИНН, указанными в текстовом файле\n",
    "\n",
    "filter_inn = inn.query('head_inn in @list_inn')"
   ]
  },
  {
   "cell_type": "code",
   "execution_count": 61,
   "metadata": {},
   "outputs": [],
   "source": [
    "#записать результат в файл selected_inn.csv\n",
    "\n",
    "filter_inn.to_csv('selected_inn.csv')"
   ]
  },
  {
   "cell_type": "code",
   "execution_count": 65,
   "metadata": {},
   "outputs": [],
   "source": [
    "new_data = pd.read_csv('selected_inn.csv')"
   ]
  },
  {
   "cell_type": "code",
   "execution_count": 67,
   "metadata": {},
   "outputs": [],
   "source": [
    "sum_income = new_data['income,RUB'].sum()"
   ]
  }
 ],
 "metadata": {
  "kernelspec": {
   "display_name": "Python 3",
   "language": "python",
   "name": "python3"
  },
  "language_info": {
   "codemirror_mode": {
    "name": "ipython",
    "version": 3
   },
   "file_extension": ".py",
   "mimetype": "text/x-python",
   "name": "python",
   "nbconvert_exporter": "python",
   "pygments_lexer": "ipython3",
   "version": "3.7.3"
  }
 },
 "nbformat": 4,
 "nbformat_minor": 4
}
